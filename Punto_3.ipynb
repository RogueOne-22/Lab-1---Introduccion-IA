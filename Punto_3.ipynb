{
  "nbformat": 4,
  "nbformat_minor": 0,
  "metadata": {
    "colab": {
      "provenance": [],
      "authorship_tag": "ABX9TyN49J4HnPH+QoZeDh4QMrax",
      "include_colab_link": true
    },
    "kernelspec": {
      "name": "python3",
      "display_name": "Python 3"
    },
    "language_info": {
      "name": "python"
    }
  },
  "cells": [
    {
      "cell_type": "markdown",
      "metadata": {
        "id": "view-in-github",
        "colab_type": "text"
      },
      "source": [
        "<a href=\"https://colab.research.google.com/github/RogueOne-22/Lab-1---Introduccion-IA/blob/main/Punto_3.ipynb\" target=\"_parent\"><img src=\"https://colab.research.google.com/assets/colab-badge.svg\" alt=\"Open In Colab\"/></a>"
      ]
    },
    {
      "cell_type": "code",
      "execution_count": 19,
      "metadata": {
        "colab": {
          "base_uri": "https://localhost:8080/"
        },
        "id": "JGinGP7_Q2Lq",
        "outputId": "339fdb45-2fc9-4311-a7b9-934909d12530"
      },
      "outputs": [
        {
          "output_type": "stream",
          "name": "stdout",
          "text": [
            " Laberinto inicial con obstáculos:\n",
            " ▒  ▒  O\n",
            " .  ▒  . \n",
            " ♦ .  . \n",
            "\n",
            "🎉 Ruta encontrada con A*:\n",
            "(0, 0) → (1, 0) → (2, 0) → (2, 1) → (2, 2)\n",
            " ▒  ▒  O\n",
            " .  ▒  * \n",
            " ♦ *  * \n",
            "\n"
          ]
        }
      ],
      "source": [
        "import heapq\n",
        "import random\n",
        "\n",
        "\n",
        "# 1. Definición del laberinto\n",
        "\n",
        "size = 3\n",
        "estado_inicial = (0, 0)\n",
        "estado_meta = (2, 2)\n",
        "\n",
        "# Obstáculos (aleatorios evitando inicio y meta)\n",
        "todos_los_estados = [(x, y) for x in range(size) for y in range(size)]\n",
        "candidatos = [s for s in todos_los_estados if s not in [estado_inicial, estado_meta]]\n",
        "obstaculos = random.sample(candidatos, 3)\n",
        "\n",
        "acciones = {\n",
        "    \"arriba\": (0, 1),\n",
        "    \"abajo\": (0, -1),\n",
        "    \"derecha\": (1, 0),\n",
        "    \"izquierda\": (-1, 0)\n",
        "}\n",
        "\n",
        "# 2. Funciones\n",
        "\n",
        "def heuristica(estado):\n",
        "    \"\"\"Distancia Manhattan\"\"\"\n",
        "    return abs(estado[0] - estado_meta[0]) + abs(estado[1] - estado_meta[1])\n",
        "\n",
        "def vecinos(estado):\n",
        "    \"\"\"Genera vecinos válidos\"\"\"\n",
        "    result = []\n",
        "    for accion, (dx, dy) in acciones.items():\n",
        "        nuevo = (estado[0] + dx, estado[1] + dy)\n",
        "        if (0 <= nuevo[0] < size and 0 <= nuevo[1] < size) and (nuevo not in obstaculos):\n",
        "            result.append((nuevo, accion))\n",
        "    return result\n",
        "\n",
        "def mostrar_laberinto(path=set()):\n",
        "    \"\"\"Visualización del laberinto\"\"\"\n",
        "    for y in range(size - 1, -1, -1):\n",
        "        fila = \"\"\n",
        "        for x in range(size):\n",
        "            if (x, y) == estado_inicial:\n",
        "                fila += \" ♦\"\n",
        "            elif (x, y) == estado_meta:\n",
        "                fila += \" O\"\n",
        "            elif (x, y) in path:\n",
        "                fila += \" * \"\n",
        "            elif (x, y) in obstaculos:\n",
        "                fila += \" ▒ \"\n",
        "            else:\n",
        "                fila += \" . \"\n",
        "        print(fila)\n",
        "    print()\n",
        "\n",
        "# 3. Algoritmo\n",
        "\n",
        "def a_star():\n",
        "    frontera = []\n",
        "    heapq.heappush(frontera, (heuristica(estado_inicial), 0, estado_inicial, []))\n",
        "    visitados = set()\n",
        "\n",
        "    while frontera:\n",
        "        f, g, estado, camino = heapq.heappop(frontera)\n",
        "\n",
        "        if estado in visitados:\n",
        "            continue\n",
        "        visitados.add(estado)\n",
        "\n",
        "        if estado == estado_meta:\n",
        "            return camino + [estado]\n",
        "\n",
        "        for vecino, accion in vecinos(estado):\n",
        "            if vecino not in visitados:\n",
        "                nuevo_camino = camino + [estado]\n",
        "                nuevo_g = g + 1\n",
        "                nuevo_f = nuevo_g + heuristica(vecino)\n",
        "                heapq.heappush(frontera, (nuevo_f, nuevo_g, vecino, nuevo_camino))\n",
        "\n",
        "    return None\n",
        "\n",
        "# 4. Simulación\n",
        "\n",
        "print(\" Laberinto inicial con obstáculos:\")\n",
        "mostrar_laberinto()\n",
        "\n",
        "ruta = a_star()\n",
        "\n",
        "if ruta:\n",
        "    print(\"🎉 Ruta encontrada con A*:\")\n",
        "    print(\" → \".join(map(str, ruta)))\n",
        "    mostrar_laberinto(path=set(ruta))\n",
        "else:\n",
        "    print(\"⚠️ No hay ruta posible hasta la meta.\")\n"
      ]
    }
  ]
}