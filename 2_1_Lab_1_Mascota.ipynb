{
  "nbformat": 4,
  "nbformat_minor": 0,
  "metadata": {
    "colab": {
      "provenance": [],
      "authorship_tag": "ABX9TyM7B7UZMQE9tNUemdgf+8L1",
      "include_colab_link": true
    },
    "kernelspec": {
      "name": "python3",
      "display_name": "Python 3"
    },
    "language_info": {
      "name": "python"
    }
  },
  "cells": [
    {
      "cell_type": "markdown",
      "metadata": {
        "id": "view-in-github",
        "colab_type": "text"
      },
      "source": [
        "<a href=\"https://colab.research.google.com/github/RogueOne-22/Lab-1---Introduccion-IA/blob/main/2_1_Lab_1_Mascota.ipynb\" target=\"_parent\"><img src=\"https://colab.research.google.com/assets/colab-badge.svg\" alt=\"Open In Colab\"/></a>"
      ]
    },
    {
      "cell_type": "code",
      "execution_count": 2,
      "metadata": {
        "colab": {
          "base_uri": "https://localhost:8080/"
        },
        "id": "9ifJX32KBwNI",
        "outputId": "6dd2f321-9ca3-47af-dc12-6a0fded79559"
      },
      "outputs": [
        {
          "output_type": "stream",
          "name": "stdout",
          "text": [
            "Estado inicial: Neutro\n",
            "Estado meta: feliz\n",
            "\n",
            "Acción: alimentar con 5gr de comida\n",
            "Estado después de la acción: triste\n",
            "\n",
            "Acción: alimentar con 5gr de comida\n",
            "Estado después de la acción: triste\n",
            "\n",
            "Acción: alimentar con 1gr de comida\n",
            "Estado después de la acción: triste\n",
            "\n",
            "Acción: alimentar con 2gr de comida\n",
            "Estado después de la acción: triste\n",
            "\n",
            "Acción: alimentar con 5gr de comida\n",
            "Estado después de la acción: triste\n",
            "\n",
            "Acción: alimentar con 5gr de comida\n",
            "Estado después de la acción: triste\n",
            "\n",
            "Acción: alimentar con 6gr de comida\n",
            "Estado después de la acción: triste\n",
            "\n",
            "Acción: alimentar con 2gr de comida\n",
            "Estado después de la acción: triste\n",
            "\n",
            "Acción: alimentar con 2gr de comida\n",
            "Estado después de la acción: triste\n",
            "\n",
            "Acción: alimentar con 10gr de comida\n",
            "Estado después de la acción: feliz\n",
            "\n",
            "🎉 ¡La mascota está feliz!\n",
            "\n",
            "Total de pasos: 10\n"
          ]
        }
      ],
      "source": [
        "import random\n",
        "\n",
        "# 1. Definición de estados\n",
        "estados = [\"triste\", \"Neutro\", \"feliz\"]   # espacio de estados\n",
        "acciones = [\"alimentar\"]                    # espacio de acciones\n",
        "\n",
        "# Estado inicial y meta\n",
        "estado_actual = \"Neutro\"\n",
        "estado_meta = \"feliz\"\n",
        "\n",
        "print(\"Estado inicial:\", estado_actual)\n",
        "print(\"Estado meta:\", estado_meta)\n",
        "\n",
        "# 2. Función de transición\n",
        "def cambiar_estado(estado, comida):\n",
        "    if comida == 10:\n",
        "        return \"feliz\"\n",
        "    elif comida < 10:\n",
        "        return \"triste\"\n",
        "    else:\n",
        "        return estado  # acción inválida\n",
        "\n",
        "# 3. Simulación aleatoria\n",
        "pasos = 0\n",
        "\n",
        "while estado_actual != estado_meta:\n",
        "    # acción: alimentar con cantidad aleatoria\n",
        "    accion = \"alimentar\"\n",
        "    comida = random.randint(1, 10)\n",
        "    print(f\"\\nAcción: {accion} con {comida}gr de comida\")\n",
        "\n",
        "    estado_actual = cambiar_estado(estado_actual, comida)\n",
        "    pasos += 1\n",
        "    print(f\"Estado después de la acción: {estado_actual}\")\n",
        "\n",
        "    if estado_actual == estado_meta:\n",
        "        print(\"\\n🎉 ¡La mascota está feliz!\")\n",
        "        break\n",
        "\n",
        "print(f\"\\nTotal de pasos: {pasos}\")"
      ]
    }
  ]
}