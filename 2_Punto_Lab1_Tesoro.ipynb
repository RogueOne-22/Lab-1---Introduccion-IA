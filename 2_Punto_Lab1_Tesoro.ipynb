{
  "nbformat": 4,
  "nbformat_minor": 0,
  "metadata": {
    "colab": {
      "provenance": [],
      "authorship_tag": "ABX9TyOM51wYaGwQt96xnmva9KdN",
      "include_colab_link": true
    },
    "kernelspec": {
      "name": "python3",
      "display_name": "Python 3"
    },
    "language_info": {
      "name": "python"
    }
  },
  "cells": [
    {
      "cell_type": "markdown",
      "metadata": {
        "id": "view-in-github",
        "colab_type": "text"
      },
      "source": [
        "<a href=\"https://colab.research.google.com/github/RogueOne-22/Lab-1---Introduccion-IA/blob/main/2_Punto_Lab1_Tesoro.ipynb\" target=\"_parent\"><img src=\"https://colab.research.google.com/assets/colab-badge.svg\" alt=\"Open In Colab\"/></a>"
      ]
    },
    {
      "cell_type": "code",
      "execution_count": 1,
      "metadata": {
        "colab": {
          "base_uri": "https://localhost:8080/"
        },
        "id": "oVch5ceTN5_5",
        "outputId": "31846feb-1d8d-43ce-edbf-e38394396865"
      },
      "outputs": [
        {
          "output_type": "stream",
          "name": "stdout",
          "text": [
            "🏴‍☠️ Estado inicial del pirata: (0, 0)\n",
            "💰 Estado meta (tesoro): (2, 2)\n",
            "\n",
            "Acción elegida: atras\n",
            "📍 Nueva posición del pirata: (0, 0)\n",
            "\n",
            "Acción elegida: derecha\n",
            "📍 Nueva posición del pirata: (1, 0)\n",
            "\n",
            "Acción elegida: izquierda\n",
            "📍 Nueva posición del pirata: (0, 0)\n",
            "\n",
            "Acción elegida: adelante\n",
            "📍 Nueva posición del pirata: (0, 1)\n",
            "\n",
            "Acción elegida: derecha\n",
            "📍 Nueva posición del pirata: (1, 1)\n",
            "\n",
            "Acción elegida: atras\n",
            "📍 Nueva posición del pirata: (1, 0)\n",
            "\n",
            "Acción elegida: atras\n",
            "📍 Nueva posición del pirata: (1, 0)\n",
            "\n",
            "Acción elegida: derecha\n",
            "📍 Nueva posición del pirata: (2, 0)\n",
            "\n",
            "Acción elegida: atras\n",
            "📍 Nueva posición del pirata: (2, 0)\n",
            "\n",
            "Acción elegida: derecha\n",
            "📍 Nueva posición del pirata: (2, 0)\n",
            "\n",
            "Acción elegida: izquierda\n",
            "📍 Nueva posición del pirata: (1, 0)\n",
            "\n",
            "Acción elegida: adelante\n",
            "📍 Nueva posición del pirata: (1, 1)\n",
            "\n",
            "Acción elegida: izquierda\n",
            "📍 Nueva posición del pirata: (0, 1)\n",
            "\n",
            "Acción elegida: adelante\n",
            "📍 Nueva posición del pirata: (0, 2)\n",
            "\n",
            "Acción elegida: adelante\n",
            "📍 Nueva posición del pirata: (0, 2)\n",
            "\n",
            "Acción elegida: derecha\n",
            "📍 Nueva posición del pirata: (1, 2)\n",
            "\n",
            "Acción elegida: derecha\n",
            "📍 Nueva posición del pirata: (2, 2)\n",
            "\n",
            "🎉 ¡Tesoro encontrado en la posición (2,2)!\n",
            "\n",
            "⏳ Total de pasos: 17\n"
          ]
        }
      ],
      "source": [
        "import random\n",
        "\n",
        "# 1. Definición de estados\n",
        "posiciones = [(x, y) for x in range(3) for y in range(3)]  # espacio de estados (3x3)\n",
        "acciones = [\"izquierda\", \"derecha\", \"adelante\", \"atras\"]   # espacio de acciones\n",
        "\n",
        "# Estado inicial y meta\n",
        "estado_actual = (0, 0)\n",
        "estado_meta = (2, 2)\n",
        "\n",
        "print(\"🏴‍☠️ Estado inicial del pirata:\", estado_actual)\n",
        "print(\"💰 Estado meta (tesoro):\", estado_meta)\n",
        "\n",
        "# 2. Función de transición\n",
        "def mover_pirata(estado, accion):\n",
        "    x, y = estado\n",
        "    if accion == \"adelante\":    # mover hacia +y\n",
        "        y = min(y + 1, 2)\n",
        "    elif accion == \"atras\":     # mover hacia -y\n",
        "        y = max(y - 1, 0)\n",
        "    elif accion == \"derecha\":   # mover hacia +x\n",
        "        x = min(x + 1, 2)\n",
        "    elif accion == \"izquierda\": # mover hacia -x\n",
        "        x = max(x - 1, 0)\n",
        "    return (x, y)\n",
        "\n",
        "# 3. Simulación aleatoria\n",
        "pasos = 0\n",
        "\n",
        "while estado_actual != estado_meta:\n",
        "    accion = random.choice(acciones)  # acción aleatoria\n",
        "    print(f\"\\nAcción elegida: {accion}\")\n",
        "\n",
        "    estado_actual = mover_pirata(estado_actual, accion)\n",
        "    pasos += 1\n",
        "    print(f\"📍 Nueva posición del pirata: {estado_actual}\")\n",
        "\n",
        "    if estado_actual == estado_meta:\n",
        "        print(\"\\n🎉 ¡Tesoro encontrado en la posición (2,2)!\")\n",
        "        break\n",
        "\n",
        "print(f\"\\n⏳ Total de pasos: {pasos}\")"
      ]
    }
  ]
}