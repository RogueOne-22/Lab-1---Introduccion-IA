{
  "nbformat": 4,
  "nbformat_minor": 0,
  "metadata": {
    "colab": {
      "provenance": [],
      "authorship_tag": "ABX9TyOJ3WapEN4AwNg8HUdmlgsd",
      "include_colab_link": true
    },
    "kernelspec": {
      "name": "python3",
      "display_name": "Python 3"
    },
    "language_info": {
      "name": "python"
    }
  },
  "cells": [
    {
      "cell_type": "markdown",
      "metadata": {
        "id": "view-in-github",
        "colab_type": "text"
      },
      "source": [
        "<a href=\"https://colab.research.google.com/github/RogueOne-22/Lab-1---Introduccion-IA/blob/main/2nd_punto_Lab_1.ipynb\" target=\"_parent\"><img src=\"https://colab.research.google.com/assets/colab-badge.svg\" alt=\"Open In Colab\"/></a>"
      ]
    },
    {
      "cell_type": "code",
      "execution_count": 3,
      "metadata": {
        "colab": {
          "base_uri": "https://localhost:8080/"
        },
        "id": "ahUiQ7QpcZk0",
        "outputId": "db1588a0-d31c-42e9-e813-6376eec83b08"
      },
      "outputs": [
        {
          "output_type": "stream",
          "name": "stdout",
          "text": [
            "Estado inicial: apagada\n",
            "Estado meta: encendida\n",
            "\n",
            "Acción elegida: prender\n",
            "Estado después de la acción: encendida\n",
            "\n",
            "🎉 ¡Estado meta alcanzado!\n",
            "\n",
            "Total de pasos usados: 1\n"
          ]
        }
      ],
      "source": [
        "import random\n",
        "\n",
        "# ==========================\n",
        "# 1. Definición de estados\n",
        "# ==========================\n",
        "estados = [\"apagada\", \"encendida\"]   # espacio de estados\n",
        "acciones = [\"prender\", \"apagar\"]     # espacio de acciones\n",
        "\n",
        "# Estado inicial y meta\n",
        "estado_actual = \"apagada\"\n",
        "estado_meta = \"encendida\"\n",
        "\n",
        "print(\"Estado inicial:\", estado_actual)\n",
        "print(\"Estado meta:\", estado_meta)\n",
        "\n",
        "# ==========================\n",
        "# 2. Función de transición\n",
        "# ==========================\n",
        "def cambiar_estado(estado, accion):\n",
        "    if accion == \"prender\":\n",
        "        return \"encendida\"\n",
        "    elif accion == \"apagar\":\n",
        "        return \"apagada\"\n",
        "    else:\n",
        "        return estado  # acción inválida -> no cambia\n",
        "\n",
        "\n",
        "# ==========================\n",
        "# 3. Simulación aleatoria\n",
        "# ==========================\n",
        "pasos = 0\n",
        "while estado_actual != estado_meta:\n",
        "    # elegir una acción aleatoria\n",
        "    accion = random.choice(acciones)\n",
        "    print(f\"\\nAcción elegida: {accion}\")\n",
        "\n",
        "    # aplicar transición\n",
        "    estado_actual = cambiar_estado(estado_actual, accion)\n",
        "    pasos += 1\n",
        "    print(f\"Estado después de la acción: {estado_actual}\")\n",
        "\n",
        "    # verificar si alcanzamos meta\n",
        "    if estado_actual == estado_meta:\n",
        "        print(\"\\n🎉 ¡Estado meta alcanzado!\")\n",
        "        break\n",
        "\n",
        "print(f\"\\nTotal de pasos usados: {pasos}\")\n",
        "\n"
      ]
    }
  ]
}